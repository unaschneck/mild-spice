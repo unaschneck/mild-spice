{
 "cells": [
  {
   "cell_type": "markdown",
   "id": "8a4d3d17-920e-4bad-a73c-d805993ea168",
   "metadata": {},
   "source": [
    "## SpiceyPy"
   ]
  },
  {
   "cell_type": "code",
   "execution_count": 1,
   "id": "6dcd8009-9471-4356-ab46-ba97398758dc",
   "metadata": {},
   "outputs": [],
   "source": [
    "import numpy as np\n",
    "import matplotlib.pyplot as plt\n",
    "from mpl_toolkits.mplot3d import Axes3D"
   ]
  },
  {
   "cell_type": "code",
   "execution_count": 3,
   "id": "310c9468-1ab1-4112-a2eb-4f7242c75f0a",
   "metadata": {},
   "outputs": [],
   "source": [
    "import spiceypy as spice"
   ]
  },
  {
   "cell_type": "code",
   "execution_count": 4,
   "id": "213011df-e110-4ed4-a871-6288369af759",
   "metadata": {},
   "outputs": [
    {
     "data": {
      "text/plain": [
       "'CSPICE_N0067'"
      ]
     },
     "execution_count": 4,
     "metadata": {},
     "output_type": "execute_result"
    }
   ],
   "source": [
    "# Print out the toolkit version\n",
    "spice.tkvrsn(\"TOOLKIT\")"
   ]
  },
  {
   "cell_type": "markdown",
   "id": "53d8419d-8f08-4ecd-ad45-46b0d3b5d46d",
   "metadata": {},
   "source": [
    "## Kernels\n",
    "\n",
    "[SPICE Kernel Required Reading](https://naif.jpl.nasa.gov/pub/naif/toolkit_docs/C/req/kernel.html)\n",
    "\n",
    "SPICE text kernels are:\n",
    "\n",
    "- text form of planetary constants (text PCK)\n",
    "- leapseconds (LSK)\n",
    "- spacecraft clock coefficients (SCLK)\n",
    "- instrument geometry (IK)\n",
    "- reference frame specifications  (FK)\n",
    "- meta-kernels (MK)\n",
    "\n",
    "SPICE binary kernels:\n",
    "- ephemeris for vehicles, planents, satellites, comets, asteriods (SPK)\n",
    "- orientation (attitude) of a spacecraft or other structure (CK)\n",
    "- special binary form of planetary constants containing only orientation (binary PCK)\n",
    "- shape models or topographic data for extended objects (DSK)\n",
    "- mission events (EK)\n",
    "\n",
    "NAIF kernel naming conventions\n",
    "- .bc    binary CK\n",
    "- .bds   binary DSK\n",
    "- .bes   binary Sequence Component EK\n",
    "- .bpc   binary PCK\n",
    "- .bsp   binary SPK\n",
    "- .tf    text FK\n",
    "- .ti    text IK\n",
    "- .tls   text LSK\n",
    "- .tm    text meta-kernel (FURNSH kernel)\n",
    "- .tpc   text PCK\n",
    "- .tsc   text SCLK"
   ]
  },
  {
   "cell_type": "raw",
   "id": "bb377c39-627e-4b0f-b16f-201f013c4b06",
   "metadata": {},
   "source": [
    "Name             Lesson steps/functions that it describes\n",
    "---------------  -----------------------------------------\n",
    "ck.req           Obtaining spacecraft orientation data\n",
    "dsk.req          Obtaining detailed body shape data\n",
    "frames.req       Using reference frames\n",
    "naif_ids.req     Determining body ID codes\n",
    "pck.req          Obtaining planetary constants data\n",
    "sclk.req         SCLK time conversion\n",
    "spk.req          Obtaining ephemeris Data\n",
    "time.req         Time conversion"
   ]
  },
  {
   "cell_type": "code",
   "execution_count": 10,
   "id": "64a8c6a8-effe-4b02-ad1f-ae23f987c035",
   "metadata": {},
   "outputs": [],
   "source": [
    "from bs4 import BeautifulSoup\n",
    "from urllib import request, error\n",
    "import random"
   ]
  },
  {
   "cell_type": "code",
   "execution_count": 74,
   "id": "e6fe1c4e-e831-4697-a07e-a6eb882a7ecf",
   "metadata": {},
   "outputs": [],
   "source": [
    "def return_table_of_contents(root_url):\n",
    "    user_agents = [\n",
    "\t\t'Mozilla/6.0 (Windows NT 10.0; Win64; x64) AppleWebKit/537.36 (KHTML, like Gecko) Chrome/109.0.0.0 Safari/537.36',\n",
    "\t\t'Mozilla/6.0 (Macintosh; Intel Mac OS X 10_15_7) AppleWebKit/537.36 (KHTML, like Gecko) Chrome/109.0.0.0 Safari/537.36',\n",
    "\t\t'Mozilla/5.0 (Windows NT 10.0; Win64; x64) AppleWebKit/537.36 (KHTML, like Gecko) Chrome/108.0.0.0 Safari/537.36',\n",
    "\t\t'Mozilla/5.0 (Macintosh; Intel Mac OS X 10_15_7) AppleWebKit/537.36 (KHTML, like Gecko) Chrome/108.0.0.0 Safari/537.36',\n",
    "\t\t'Mozilla/6.0 (X11; Linux x86_64) AppleWebKit/537.36 (KHTML, like Gecko) Chrome/108.0.0.0 Safari/537.36',\n",
    "\t\t'Mozilla/5.0 (Macintosh; Intel Mac OS X 10_15_7) AppleWebKit/605.1.15 (KHTML, like Gecko) Version/16.1 Safari/605.1.15',\n",
    "\t\t'Mozilla/5.0 (Macintosh; Intel Mac OS X 13_1) AppleWebKit/605.1.15 (KHTML, like Gecko) Version/16.1 Safari/605.1.15'\n",
    "    ]\n",
    "\n",
    "    random_agent = random.choice(user_agents)\n",
    "    naif_kernel_url = root_url\n",
    "    req_with_headers = request.Request(url=naif_kernel_url, headers={'User-Agent': random_agent})\n",
    "    naif_html = request.urlopen(req_with_headers).read()\n",
    "    soup = BeautifulSoup(naif_html, 'html.parser')\n",
    "    table_of_contents = soup.find('pre')\n",
    "    return table_of_contents"
   ]
  },
  {
   "cell_type": "code",
   "execution_count": 93,
   "id": "074b7af2-8364-47a3-92a1-fa63c2b8ee68",
   "metadata": {},
   "outputs": [],
   "source": [
    "def returnSubDirs(table_of_contents):\n",
    "    sub_dirs = []\n",
    "    for row in table_of_contents.text.split(\"\\n\"):\n",
    "        if len(row) > 0:\n",
    "            row = row.split(\"  \")\n",
    "            row = list(filter(None, row)) # remove empty strings \"\"\n",
    "            if \"/\" in row[0]:\n",
    "                sub_dirs.append(row[0])\n",
    "    return sub_dirs"
   ]
  },
  {
   "cell_type": "code",
   "execution_count": 105,
   "id": "70eb6cab-57f2-4453-907c-3ee9efad6c1a",
   "metadata": {},
   "outputs": [
    {
     "name": "stdout",
     "output_type": "stream",
     "text": [
      " Name                    Last modified      Size   Parent Directory                             -   \n",
      " aareadme.txt            2004-03-11 14:39  456   \n",
      " ck/                     2013-07-12 16:25    -   \n",
      " ek/                     2000-07-12 08:40    -   \n",
      " ik/                     2012-01-16 06:44    -   \n",
      " lsk/                    2005-08-09 17:22    -   \n",
      " pck/                    2002-03-01 06:46    -   \n",
      " sclk/                   2000-07-20 03:14    -   \n",
      " spk/                    2022-02-10 16:07    -   \n",
      "\n"
     ]
    }
   ],
   "source": [
    "root_url = \"https://naif.jpl.nasa.gov/pub/naif/GLL/kernels/\"\n",
    "table_of_contents = return_table_of_contents(root_url)\n",
    "print(table_of_contents.text)"
   ]
  },
  {
   "cell_type": "code",
   "execution_count": 106,
   "id": "84c3fc32-496e-4b2a-bd80-28ffd36bd485",
   "metadata": {},
   "outputs": [
    {
     "name": "stdout",
     "output_type": "stream",
     "text": [
      "[' ck/', ' ek/', ' ik/', ' lsk/', ' pck/', ' sclk/', ' spk/']\n"
     ]
    }
   ],
   "source": [
    "kernel_types = returnSubDirs(table_of_contents)\n",
    "print(kernel_types)"
   ]
  },
  {
   "cell_type": "code",
   "execution_count": 150,
   "id": "057079f6-ce50-4c21-8d95-efc8fd4d5791",
   "metadata": {},
   "outputs": [],
   "source": [
    "def return_kernel_df(kernel_type):\n",
    "    if kernel_type not in kernel_types:\n",
    "        print(f\"not a valid kernel type, valid kernel options: {kernel_types}\")\n",
    "        return None\n",
    "    root_url = f\"https://naif.jpl.nasa.gov/pub/naif/GLL/kernels/{kernel_type.strip()}\"\n",
    "    table_of_contents = return_table_of_contents(root_url)\n",
    "    kernel_name = []\n",
    "    last_modified = []\n",
    "    for row in table_of_contents.text.split(\"\\n\")[1:]:\n",
    "        row = row.split(\" \")\n",
    "        row = list(filter(None, row)) # remove empty strings \"\"\n",
    "        if len(row) > 0:\n",
    "            #print(row)\n",
    "            row = [x.strip() for x in row]\n",
    "            if len(row[0].split(\".\")) > 1:\n",
    "                kernel_name.append(row[0])\n",
    "                last_modified.append(row[1] + \" \" + row[2])\n",
    "    import pandas as pd\n",
    "    kernel_df = pd.DataFrame({\"kernel_name\": kernel_name, \"last_modified\": last_modified})\n",
    "    return kernel_df"
   ]
  },
  {
   "cell_type": "code",
   "execution_count": 185,
   "id": "04da24b9-a48a-4c66-923d-0cfff240e843",
   "metadata": {},
   "outputs": [
    {
     "data": {
      "text/html": [
       "<div>\n",
       "<style scoped>\n",
       "    .dataframe tbody tr th:only-of-type {\n",
       "        vertical-align: middle;\n",
       "    }\n",
       "\n",
       "    .dataframe tbody tr th {\n",
       "        vertical-align: top;\n",
       "    }\n",
       "\n",
       "    .dataframe thead th {\n",
       "        text-align: right;\n",
       "    }\n",
       "</style>\n",
       "<table border=\"1\" class=\"dataframe\">\n",
       "  <thead>\n",
       "    <tr style=\"text-align: right;\">\n",
       "      <th></th>\n",
       "      <th>kernel_name</th>\n",
       "      <th>last_modified</th>\n",
       "    </tr>\n",
       "  </thead>\n",
       "  <tbody>\n",
       "    <tr>\n",
       "      <th>0</th>\n",
       "      <td>gll24001.ti</td>\n",
       "      <td>2012-01-16 06:44:00</td>\n",
       "    </tr>\n",
       "    <tr>\n",
       "      <th>1</th>\n",
       "      <td>gll25001.ti</td>\n",
       "      <td>2012-01-16 06:44:00</td>\n",
       "    </tr>\n",
       "    <tr>\n",
       "      <th>2</th>\n",
       "      <td>gll28001.ti</td>\n",
       "      <td>2012-01-16 06:44:00</td>\n",
       "    </tr>\n",
       "    <tr>\n",
       "      <th>3</th>\n",
       "      <td>gll29001.ti</td>\n",
       "      <td>2012-01-16 06:44:00</td>\n",
       "    </tr>\n",
       "    <tr>\n",
       "      <th>4</th>\n",
       "      <td>gll34001.ti</td>\n",
       "      <td>2012-01-16 06:44:00</td>\n",
       "    </tr>\n",
       "    <tr>\n",
       "      <th>5</th>\n",
       "      <td>gll36001.ti</td>\n",
       "      <td>2012-01-16 06:44:00</td>\n",
       "    </tr>\n",
       "    <tr>\n",
       "      <th>6</th>\n",
       "      <td>gll37001.ti</td>\n",
       "      <td>2012-01-16 06:44:00</td>\n",
       "    </tr>\n",
       "  </tbody>\n",
       "</table>\n",
       "</div>"
      ],
      "text/plain": [
       "   kernel_name       last_modified\n",
       "0  gll24001.ti 2012-01-16 06:44:00\n",
       "1  gll25001.ti 2012-01-16 06:44:00\n",
       "2  gll28001.ti 2012-01-16 06:44:00\n",
       "3  gll29001.ti 2012-01-16 06:44:00\n",
       "4  gll34001.ti 2012-01-16 06:44:00\n",
       "5  gll36001.ti 2012-01-16 06:44:00\n",
       "6  gll37001.ti 2012-01-16 06:44:00"
      ]
     },
     "execution_count": 185,
     "metadata": {},
     "output_type": "execute_result"
    }
   ],
   "source": [
    "kernel_df = return_kernel_df(\" ik/\")\n",
    "kernel_df[\"last_modified\"] = pd.to_datetime(kernel_df[\"last_modified\"])\n",
    "kernel_df = kernel_df.sort_values(by=\"last_modified\")\n",
    "kernel_df"
   ]
  },
  {
   "cell_type": "code",
   "execution_count": 186,
   "id": "e533ae3d-221f-486d-b19a-785c863e65a7",
   "metadata": {},
   "outputs": [
    {
     "name": "stdout",
     "output_type": "stream",
     "text": [
      "<class 'pandas._libs.tslibs.timestamps.Timestamp'>\n",
      "2012-01-16 06:44:00\n"
     ]
    }
   ],
   "source": [
    "most_recent_date = kernel_df[\"last_modified\"].max()\n",
    "print(type(most_recent_date))\n",
    "print(most_recent_date)"
   ]
  },
  {
   "cell_type": "code",
   "execution_count": 187,
   "id": "fa3d5ed0-c903-482a-b541-73f550d42871",
   "metadata": {},
   "outputs": [
    {
     "data": {
      "text/html": [
       "<div>\n",
       "<style scoped>\n",
       "    .dataframe tbody tr th:only-of-type {\n",
       "        vertical-align: middle;\n",
       "    }\n",
       "\n",
       "    .dataframe tbody tr th {\n",
       "        vertical-align: top;\n",
       "    }\n",
       "\n",
       "    .dataframe thead th {\n",
       "        text-align: right;\n",
       "    }\n",
       "</style>\n",
       "<table border=\"1\" class=\"dataframe\">\n",
       "  <thead>\n",
       "    <tr style=\"text-align: right;\">\n",
       "      <th></th>\n",
       "      <th>kernel_name</th>\n",
       "      <th>last_modified</th>\n",
       "    </tr>\n",
       "  </thead>\n",
       "  <tbody>\n",
       "    <tr>\n",
       "      <th>0</th>\n",
       "      <td>gll24001.ti</td>\n",
       "      <td>2012-01-16 06:44:00</td>\n",
       "    </tr>\n",
       "    <tr>\n",
       "      <th>1</th>\n",
       "      <td>gll25001.ti</td>\n",
       "      <td>2012-01-16 06:44:00</td>\n",
       "    </tr>\n",
       "    <tr>\n",
       "      <th>2</th>\n",
       "      <td>gll28001.ti</td>\n",
       "      <td>2012-01-16 06:44:00</td>\n",
       "    </tr>\n",
       "    <tr>\n",
       "      <th>3</th>\n",
       "      <td>gll29001.ti</td>\n",
       "      <td>2012-01-16 06:44:00</td>\n",
       "    </tr>\n",
       "    <tr>\n",
       "      <th>4</th>\n",
       "      <td>gll34001.ti</td>\n",
       "      <td>2012-01-16 06:44:00</td>\n",
       "    </tr>\n",
       "    <tr>\n",
       "      <th>5</th>\n",
       "      <td>gll36001.ti</td>\n",
       "      <td>2012-01-16 06:44:00</td>\n",
       "    </tr>\n",
       "    <tr>\n",
       "      <th>6</th>\n",
       "      <td>gll37001.ti</td>\n",
       "      <td>2012-01-16 06:44:00</td>\n",
       "    </tr>\n",
       "  </tbody>\n",
       "</table>\n",
       "</div>"
      ],
      "text/plain": [
       "   kernel_name       last_modified\n",
       "0  gll24001.ti 2012-01-16 06:44:00\n",
       "1  gll25001.ti 2012-01-16 06:44:00\n",
       "2  gll28001.ti 2012-01-16 06:44:00\n",
       "3  gll29001.ti 2012-01-16 06:44:00\n",
       "4  gll34001.ti 2012-01-16 06:44:00\n",
       "5  gll36001.ti 2012-01-16 06:44:00\n",
       "6  gll37001.ti 2012-01-16 06:44:00"
      ]
     },
     "execution_count": 187,
     "metadata": {},
     "output_type": "execute_result"
    }
   ],
   "source": [
    "# return all the kernels that match most recent timestamp\n",
    "kernel_df[(kernel_df['last_modified'] == most_recent_date)]"
   ]
  }
 ],
 "metadata": {
  "kernelspec": {
   "display_name": "Python 3 (ipykernel)",
   "language": "python",
   "name": "python3"
  },
  "language_info": {
   "codemirror_mode": {
    "name": "ipython",
    "version": 3
   },
   "file_extension": ".py",
   "mimetype": "text/x-python",
   "name": "python",
   "nbconvert_exporter": "python",
   "pygments_lexer": "ipython3",
   "version": "3.11.8"
  }
 },
 "nbformat": 4,
 "nbformat_minor": 5
}
